{
 "cells": [
  {
   "cell_type": "code",
   "execution_count": null,
   "metadata": {},
   "outputs": [],
   "source": [
    "# Importing tensorflow to load the saved model\n",
    "import tensorflow as tf\n",
    "\n",
    "# Importing numpy for data manipulation\n",
    "import numpy as np\n",
    "\n",
    "# Importing image to deal with and manipulate images\n",
    "from keras.preprocessing import image\n",
    "\n",
    "# Loading the saved model\n",
    "model = tf.keras.models.load_model('./')\n",
    "\n",
    "# Getting the path of the image\n",
    "path = input(\"Enter the Path of the Image: \")\n",
    "\n",
    "# Loading the image from the path taken from the user\n",
    "test_image = image.load_img(path, target_size = (256, 256))\n",
    "\n",
    "# Coverting the image to array\n",
    "test_image = image.img_to_array(test_image)\n",
    "test_image = np.expand_dims(test_image, axis = 0)\n",
    "\n",
    "# Rescaling the image so that the model can take this as an input\n",
    "test_image = test_image / 255.0\n",
    "\n",
    "# Getting the prediction from the model\n",
    "result = model.predict(test_image)\n",
    "\n",
    "# Printing out the result in a user friendly\n",
    "if result[0][0]>0.5:\n",
    "    print('The image appears Normal')\n",
    "elif result[0][0] < 0.5:\n",
    "    print('The image appears Cancerous')"
   ]
  }
 ],
 "metadata": {
  "kernelspec": {
   "display_name": "Python 3",
   "language": "python",
   "name": "python3"
  },
  "language_info": {
   "codemirror_mode": {
    "name": "ipython",
    "version": 3
   },
   "file_extension": ".py",
   "mimetype": "text/x-python",
   "name": "python",
   "nbconvert_exporter": "python",
   "pygments_lexer": "ipython3",
   "version": "3.10.7"
  },
  "orig_nbformat": 4
 },
 "nbformat": 4,
 "nbformat_minor": 2
}
