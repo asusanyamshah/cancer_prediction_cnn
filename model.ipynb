{
 "cells": [
  {
   "cell_type": "code",
   "execution_count": 1,
   "metadata": {},
   "outputs": [
    {
     "name": "stdout",
     "output_type": "stream",
     "text": [
      "Found 1007 images belonging to 2 classes.\n",
      "Found 538 images belonging to 2 classes.\n",
      "Epoch 1/15\n",
      "32/32 [==============================] - 21s 649ms/step - loss: 0.4080 - accuracy: 0.8193 - val_loss: 0.2241 - val_accuracy: 0.9238\n",
      "Epoch 2/15\n",
      "32/32 [==============================] - 20s 630ms/step - loss: 0.2732 - accuracy: 0.9027 - val_loss: 0.2186 - val_accuracy: 0.9238\n",
      "Epoch 3/15\n",
      "32/32 [==============================] - 22s 673ms/step - loss: 0.2585 - accuracy: 0.8987 - val_loss: 0.1945 - val_accuracy: 0.9219\n",
      "Epoch 4/15\n",
      "32/32 [==============================] - 22s 676ms/step - loss: 0.2535 - accuracy: 0.8977 - val_loss: 0.2099 - val_accuracy: 0.9182\n",
      "Epoch 5/15\n",
      "32/32 [==============================] - 21s 653ms/step - loss: 0.2381 - accuracy: 0.9007 - val_loss: 0.1807 - val_accuracy: 0.9238\n",
      "Epoch 6/15\n",
      "32/32 [==============================] - 22s 683ms/step - loss: 0.2301 - accuracy: 0.9057 - val_loss: 0.2169 - val_accuracy: 0.9312\n",
      "Epoch 7/15\n",
      "32/32 [==============================] - 23s 707ms/step - loss: 0.2187 - accuracy: 0.9076 - val_loss: 0.1844 - val_accuracy: 0.9238\n",
      "Epoch 8/15\n",
      "32/32 [==============================] - 22s 671ms/step - loss: 0.2078 - accuracy: 0.9086 - val_loss: 0.1778 - val_accuracy: 0.9257\n",
      "Epoch 9/15\n",
      "32/32 [==============================] - 22s 671ms/step - loss: 0.2021 - accuracy: 0.9116 - val_loss: 0.2308 - val_accuracy: 0.9108\n",
      "Epoch 10/15\n",
      "32/32 [==============================] - 21s 665ms/step - loss: 0.1902 - accuracy: 0.9116 - val_loss: 0.1819 - val_accuracy: 0.9312\n",
      "Epoch 11/15\n",
      "32/32 [==============================] - 21s 653ms/step - loss: 0.1925 - accuracy: 0.9196 - val_loss: 0.1778 - val_accuracy: 0.9294\n",
      "Epoch 12/15\n",
      "32/32 [==============================] - 22s 685ms/step - loss: 0.1724 - accuracy: 0.9245 - val_loss: 0.1648 - val_accuracy: 0.9368\n",
      "Epoch 13/15\n",
      "32/32 [==============================] - 21s 668ms/step - loss: 0.1765 - accuracy: 0.9245 - val_loss: 0.2486 - val_accuracy: 0.9312\n",
      "Epoch 14/15\n",
      "32/32 [==============================] - 22s 679ms/step - loss: 0.1621 - accuracy: 0.9325 - val_loss: 0.1687 - val_accuracy: 0.9480\n",
      "Epoch 15/15\n",
      "32/32 [==============================] - 23s 713ms/step - loss: 0.1595 - accuracy: 0.9295 - val_loss: 0.1632 - val_accuracy: 0.9349\n"
     ]
    },
    {
     "data": {
      "text/plain": [
       "<keras.src.callbacks.History at 0x28a823610>"
      ]
     },
     "execution_count": 1,
     "metadata": {},
     "output_type": "execute_result"
    }
   ],
   "source": [
    "# Importing the Libraries\n",
    "import tensorflow as tf\n",
    "from keras.preprocessing.image import ImageDataGenerator\n",
    "from tensorflow.keras.optimizers.legacy import Adam\n",
    "\n",
    "# Performing Data augmentation on training set\n",
    "train_datagen = ImageDataGenerator(\n",
    "    rescale = 1/255,\n",
    "    shear_range = 0.2,\n",
    "    zoom_range = 0.2,\n",
    "    horizontal_flip = True\n",
    ")\n",
    "\n",
    "training_set = train_datagen.flow_from_directory(\n",
    "    'train',\n",
    "    target_size = (256, 256),\n",
    "    batch_size = 32,\n",
    "    class_mode = 'binary'\n",
    ")\n",
    "\n",
    "# Performing Data augmentation on testing set\n",
    "test_datagen = ImageDataGenerator(rescale = 1./255)\n",
    "\n",
    "testing_set = test_datagen.flow_from_directory(\n",
    "    'test',\n",
    "    target_size = (256, 256),\n",
    "    batch_size = 32,\n",
    "    class_mode = 'binary'\n",
    ")\n",
    "\n",
    "# Building the Model and adding layers\n",
    "cnn = tf.keras.models.Sequential()\n",
    "cnn.add(tf.keras.layers.Conv2D(filters = 32, kernel_size = 3, activation = 'relu', input_shape = [256, 256, 3]))\n",
    "cnn.add(tf.keras.layers.MaxPool2D(pool_size = 2, strides = 2))\n",
    "cnn.add(tf.keras.layers.Conv2D(filters = 32, kernel_size = 3, activation = 'relu'))\n",
    "cnn.add(tf.keras.layers.MaxPool2D(pool_size = 2, strides = 2))\n",
    "cnn.add(tf.keras.layers.Conv2D(filters = 32, kernel_size = 3, activation = 'relu'))\n",
    "cnn.add(tf.keras.layers.MaxPool2D(pool_size = 2, strides = 2))\n",
    "cnn.add(tf.keras.layers.Flatten())\n",
    "cnn.add(tf.keras.layers.Dense(units = 64,kernel_initializer='he_normal', activation = 'relu'))\n",
    "\n",
    "\n",
    "# Adding dropout layers to reduce overfitting\n",
    "cnn.add(tf.keras.layers.Dropout(0.2))\n",
    "\n",
    "# Adding the output layer\n",
    "cnn.add(tf.keras.layers.Dense(units = 1, activation = 'sigmoid'))\n",
    "\n",
    "# Making the Optimizer\n",
    "optimizer = tf.keras.optimizers.legacy.Adam(learning_rate=0.001)\n",
    "\n",
    "# Compiling the model\n",
    "cnn.compile(optimizer = optimizer, loss = 'binary_crossentropy', metrics = ['accuracy'])\n",
    "\n",
    "# Applying early stopping to prevent overfitting\n",
    "early_stopping = tf.keras.callbacks.EarlyStopping(monitor='val_loss', patience=5)\n",
    "\n",
    "# Training the model with early stopping callback\n",
    "cnn.fit(\n",
    "    x = training_set,\n",
    "    validation_data = testing_set,\n",
    "    epochs = 15,\n",
    "    callbacks = [early_stopping]\n",
    ")\n"
   ]
  },
  {
   "cell_type": "code",
   "execution_count": null,
   "metadata": {},
   "outputs": [],
   "source": [
    "# Saving the model for future use\n",
    "tf.keras.models.save_model(cnn, './')"
   ]
  }
 ],
 "metadata": {
  "kernelspec": {
   "display_name": "Python 3",
   "language": "python",
   "name": "python3"
  },
  "language_info": {
   "codemirror_mode": {
    "name": "ipython",
    "version": 3
   },
   "file_extension": ".py",
   "mimetype": "text/x-python",
   "name": "python",
   "nbconvert_exporter": "python",
   "pygments_lexer": "ipython3",
   "version": "3.10.7"
  },
  "orig_nbformat": 4
 },
 "nbformat": 4,
 "nbformat_minor": 2
}
