{
 "cells": [
  {
   "cell_type": "code",
   "execution_count": 1,
   "metadata": {},
   "outputs": [
    {
     "name": "stdout",
     "output_type": "stream",
     "text": [
      "Found 1007 images belonging to 2 classes.\n",
      "Found 538 images belonging to 2 classes.\n",
      "Epoch 1/15\n",
      "32/32 [==============================] - 21s 653ms/step - loss: 0.3937 - accuracy: 0.8342 - val_loss: 0.2797 - val_accuracy: 0.8959\n",
      "Epoch 2/15\n",
      "32/32 [==============================] - 20s 636ms/step - loss: 0.2964 - accuracy: 0.8709 - val_loss: 0.2018 - val_accuracy: 0.9219\n",
      "Epoch 3/15\n",
      "32/32 [==============================] - 21s 637ms/step - loss: 0.2522 - accuracy: 0.8997 - val_loss: 0.1936 - val_accuracy: 0.9238\n",
      "Epoch 4/15\n",
      "32/32 [==============================] - 21s 637ms/step - loss: 0.2341 - accuracy: 0.9067 - val_loss: 0.1966 - val_accuracy: 0.9219\n",
      "Epoch 5/15\n",
      "32/32 [==============================] - 21s 639ms/step - loss: 0.2236 - accuracy: 0.9037 - val_loss: 0.1950 - val_accuracy: 0.9257\n",
      "Epoch 6/15\n",
      "32/32 [==============================] - 21s 640ms/step - loss: 0.2167 - accuracy: 0.9037 - val_loss: 0.2133 - val_accuracy: 0.9126\n",
      "Epoch 7/15\n",
      "32/32 [==============================] - 21s 647ms/step - loss: 0.2092 - accuracy: 0.9166 - val_loss: 0.2048 - val_accuracy: 0.9294\n",
      "Epoch 8/15\n",
      "32/32 [==============================] - 21s 662ms/step - loss: 0.2018 - accuracy: 0.9196 - val_loss: 0.1856 - val_accuracy: 0.9238\n",
      "Epoch 9/15\n",
      "32/32 [==============================] - 21s 647ms/step - loss: 0.1860 - accuracy: 0.9245 - val_loss: 0.2028 - val_accuracy: 0.9294\n",
      "Epoch 10/15\n",
      "32/32 [==============================] - 22s 695ms/step - loss: 0.2178 - accuracy: 0.9086 - val_loss: 0.1871 - val_accuracy: 0.9275\n",
      "Epoch 11/15\n",
      "32/32 [==============================] - 21s 655ms/step - loss: 0.1871 - accuracy: 0.9116 - val_loss: 0.2111 - val_accuracy: 0.9257\n",
      "Epoch 12/15\n",
      "32/32 [==============================] - 21s 658ms/step - loss: 0.1887 - accuracy: 0.9215 - val_loss: 0.1988 - val_accuracy: 0.9368\n",
      "Epoch 13/15\n",
      "32/32 [==============================] - 22s 676ms/step - loss: 0.1721 - accuracy: 0.9275 - val_loss: 0.1969 - val_accuracy: 0.9312\n"
     ]
    },
    {
     "data": {
      "text/plain": [
       "<keras.src.callbacks.History at 0x28a22ebc0>"
      ]
     },
     "execution_count": 1,
     "metadata": {},
     "output_type": "execute_result"
    }
   ],
   "source": [
    "# Importing the Libraries\n",
    "import tensorflow as tf\n",
    "from keras.preprocessing.image import ImageDataGenerator\n",
    "from tensorflow.keras.optimizers.legacy import Adam\n",
    "\n",
    "# Performing Data augmentation on training set\n",
    "train_datagen = ImageDataGenerator(\n",
    "    rescale = 1/255,\n",
    "    shear_range = 0.2,\n",
    "    zoom_range = 0.2,\n",
    "    horizontal_flip = True\n",
    ")\n",
    "\n",
    "training_set = train_datagen.flow_from_directory(\n",
    "    'train',\n",
    "    target_size = (256, 256),\n",
    "    batch_size = 32,\n",
    "    class_mode = 'binary'\n",
    ")\n",
    "\n",
    "# Performing Data augmentation on testing set\n",
    "test_datagen = ImageDataGenerator(rescale = 1./255)\n",
    "\n",
    "testing_set = test_datagen.flow_from_directory(\n",
    "    'test',\n",
    "    target_size = (256, 256),\n",
    "    batch_size = 32,\n",
    "    class_mode = 'binary'\n",
    ")\n",
    "\n",
    "# Building the Model and adding layers\n",
    "cnn = tf.keras.models.Sequential()\n",
    "cnn.add(tf.keras.layers.Conv2D(filters = 32, kernel_size = 3, activation = 'relu', input_shape = [256, 256, 3]))\n",
    "cnn.add(tf.keras.layers.MaxPool2D(pool_size = 2, strides = 2))\n",
    "cnn.add(tf.keras.layers.Conv2D(filters = 32, kernel_size = 3, activation = 'relu'))\n",
    "cnn.add(tf.keras.layers.MaxPool2D(pool_size = 2, strides = 2))\n",
    "cnn.add(tf.keras.layers.Conv2D(filters = 32, kernel_size = 3, activation = 'relu'))\n",
    "cnn.add(tf.keras.layers.MaxPool2D(pool_size = 2, strides = 2))\n",
    "cnn.add(tf.keras.layers.Flatten())\n",
    "cnn.add(tf.keras.layers.Dense(units = 64,kernel_initializer='he_normal', activation = 'relu'))\n",
    "\n",
    "\n",
    "# Adding dropout layers to reduce overfitting\n",
    "cnn.add(tf.keras.layers.Dropout(0.2))\n",
    "\n",
    "# Adding the output layer\n",
    "cnn.add(tf.keras.layers.Dense(units = 1, activation = 'sigmoid'))\n",
    "\n",
    "# Making the Optimizer\n",
    "optimizer = tf.keras.optimizers.legacy.Adam(learning_rate=0.001)\n",
    "\n",
    "# Compiling the model\n",
    "cnn.compile(optimizer = optimizer, loss = 'binary_crossentropy', metrics = ['accuracy'])\n",
    "\n",
    "# Applying early stopping to prevent overfitting\n",
    "early_stopping = tf.keras.callbacks.EarlyStopping(monitor='val_loss', patience=5)\n",
    "\n",
    "# Training the model with early stopping callback\n",
    "cnn.fit(\n",
    "    x = training_set,\n",
    "    validation_data = testing_set,\n",
    "    epochs = 15,\n",
    "    callbacks = [early_stopping]\n",
    ")\n"
   ]
  },
  {
   "cell_type": "code",
   "execution_count": 2,
   "metadata": {},
   "outputs": [
    {
     "name": "stdout",
     "output_type": "stream",
     "text": [
      "INFO:tensorflow:Assets written to: ./assets\n"
     ]
    },
    {
     "name": "stderr",
     "output_type": "stream",
     "text": [
      "INFO:tensorflow:Assets written to: ./assets\n"
     ]
    }
   ],
   "source": [
    "# Saving the model for future use\n",
    "tf.keras.models.save_model(cnn, './')"
   ]
  }
 ],
 "metadata": {
  "kernelspec": {
   "display_name": "Python 3",
   "language": "python",
   "name": "python3"
  },
  "language_info": {
   "codemirror_mode": {
    "name": "ipython",
    "version": 3
   },
   "file_extension": ".py",
   "mimetype": "text/x-python",
   "name": "python",
   "nbconvert_exporter": "python",
   "pygments_lexer": "ipython3",
   "version": "3.10.7"
  },
  "orig_nbformat": 4
 },
 "nbformat": 4,
 "nbformat_minor": 2
}
